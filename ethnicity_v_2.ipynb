{
  "nbformat": 4,
  "nbformat_minor": 0,
  "metadata": {
    "colab": {
      "name": "ethnicity_v_2.ipynb",
      "provenance": [],
      "authorship_tag": "ABX9TyN4Ltt8mFozy95zXohMc66q",
      "include_colab_link": true
    },
    "kernelspec": {
      "name": "python3",
      "display_name": "Python 3"
    }
  },
  "cells": [
    {
      "cell_type": "markdown",
      "metadata": {
        "id": "view-in-github",
        "colab_type": "text"
      },
      "source": [
        "<a href=\"https://colab.research.google.com/github/mohan8git/ethnicity/blob/master/ethnicity_v_2.ipynb\" target=\"_parent\"><img src=\"https://colab.research.google.com/assets/colab-badge.svg\" alt=\"Open In Colab\"/></a>"
      ]
    },
    {
      "cell_type": "code",
      "metadata": {
        "id": "wWcdWAW6Pgwp",
        "colab_type": "code",
        "outputId": "f2a731f6-70db-4ba9-ee71-af6d9cfdd314",
        "colab": {
          "base_uri": "https://localhost:8080/",
          "height": 122
        }
      },
      "source": [
        "from google.colab import drive\n",
        "drive.mount('/content/gdrive')"
      ],
      "execution_count": 0,
      "outputs": [
        {
          "output_type": "stream",
          "text": [
            "Go to this URL in a browser: https://accounts.google.com/o/oauth2/auth?client_id=947318989803-6bn6qk8qdgf4n4g3pfee6491hc0brc4i.apps.googleusercontent.com&redirect_uri=urn%3aietf%3awg%3aoauth%3a2.0%3aoob&response_type=code&scope=email%20https%3a%2f%2fwww.googleapis.com%2fauth%2fdocs.test%20https%3a%2f%2fwww.googleapis.com%2fauth%2fdrive%20https%3a%2f%2fwww.googleapis.com%2fauth%2fdrive.photos.readonly%20https%3a%2f%2fwww.googleapis.com%2fauth%2fpeopleapi.readonly\n",
            "\n",
            "Enter your authorization code:\n",
            "··········\n",
            "Mounted at /content/gdrive\n"
          ],
          "name": "stdout"
        }
      ]
    },
    {
      "cell_type": "code",
      "metadata": {
        "id": "GfX9SvXLPp3i",
        "colab_type": "code",
        "colab": {}
      },
      "source": [
        "import keras\n",
        "from keras.preprocessing.image import ImageDataGenerator\n",
        "import numpy as np\n",
        "import matplotlib.pyplot as plt\n",
        "from keras.models import Model, load_model\n",
        "from keras.layers import Activation, Dropout, Flatten, Dense\n",
        "from keras.preprocessing.image import ImageDataGenerator\n",
        "from keras.applications.vgg16 import VGG16\n",
        "from keras.optimizers import SGD\n",
        "from keras.applications.resnet50 import ResNet50"
      ],
      "execution_count": 0,
      "outputs": []
    },
    {
      "cell_type": "code",
      "metadata": {
        "id": "4Rj5zwy8P3Us",
        "colab_type": "code",
        "colab": {}
      },
      "source": [
        "train_path = \"gdrive/My Drive/Colab Notebooks/Dataset/Data3/Train\"\n",
        "test_path = \"gdrive/My Drive/Colab Notebooks/Dataset/Data3/Test\""
      ],
      "execution_count": 0,
      "outputs": []
    },
    {
      "cell_type": "code",
      "metadata": {
        "id": "bPc3RhSxQgRx",
        "colab_type": "code",
        "colab": {}
      },
      "source": [
        "batch_size = 32 \n",
        "image_size = 224\n",
        "num_class = 4"
      ],
      "execution_count": 0,
      "outputs": []
    },
    {
      "cell_type": "code",
      "metadata": {
        "id": "WiTsR1muQlkW",
        "colab_type": "code",
        "outputId": "60f413a1-ef18-406b-9071-a6d771e78306",
        "colab": {
          "base_uri": "https://localhost:8080/",
          "height": 156
        }
      },
      "source": [
        "base_model = ResNet50(weights='imagenet', pooling=max, include_top = False, input_shape=(image_size, image_size, 3) )\n",
        "\n",
        "for layer in base_model.layers:\n",
        "\n",
        "    layer.trainable = False\n",
        " \n",
        "##Create the model using Sequential\n",
        "model = keras.models.Sequential()\n",
        "\n",
        "# # Add the vgg convolutional base model\n",
        "model.add(base_model)\n",
        " \n",
        "# # Add new layers\n",
        "model.add(Flatten())\n",
        "model.add(Dense(1024, activation='relu'))\n",
        "model.add(Dropout(0.5))\n",
        "model.add(Dense(1024, activation='relu'))\n",
        "model.add(Dropout(0.5))\n",
        "model.add(Dense(num_class, activation='softmax'))\n",
        " \n",
        "# # Show a summary of the model. Check the number of trainable parameters    \n",
        "# print(model.summary())"
      ],
      "execution_count": 0,
      "outputs": [
        {
          "output_type": "stream",
          "text": [
            "/usr/local/lib/python3.6/dist-packages/keras_applications/resnet50.py:265: UserWarning: The output shape of `ResNet50(include_top=False)` has been changed since Keras 2.2.0.\n",
            "  warnings.warn('The output shape of `ResNet50(include_top=False)` '\n"
          ],
          "name": "stderr"
        },
        {
          "output_type": "stream",
          "text": [
            "WARNING:tensorflow:From /usr/local/lib/python3.6/dist-packages/keras/backend/tensorflow_backend.py:4432: The name tf.random_uniform is deprecated. Please use tf.random.uniform instead.\n",
            "\n",
            "WARNING:tensorflow:From /usr/local/lib/python3.6/dist-packages/keras/backend/tensorflow_backend.py:3733: calling dropout (from tensorflow.python.ops.nn_ops) with keep_prob is deprecated and will be removed in a future version.\n",
            "Instructions for updating:\n",
            "Please use `rate` instead of `keep_prob`. Rate should be set to `rate = 1 - keep_prob`.\n"
          ],
          "name": "stdout"
        }
      ]
    },
    {
      "cell_type": "code",
      "metadata": {
        "id": "qxniQUkhQ8wm",
        "colab_type": "code",
        "outputId": "4542d9fc-e363-4c86-f658-e6f80678d222",
        "colab": {
          "base_uri": "https://localhost:8080/",
          "height": 51
        }
      },
      "source": [
        "from keras.optimizers import SGD\n",
        "  \n",
        "model.compile(loss='categorical_crossentropy',\n",
        "          optimizer=SGD(lr=1e-3),\n",
        "          metrics=['accuracy'])\n",
        "\n",
        "# opt = RMSprop(lr=0.001)\n",
        "# model.compile(loss=\"categorical_crossentropy\", optimizer=opt,\n",
        "# metrics=[\"accuracy\"])\n",
        "\n",
        "train_datagen = ImageDataGenerator(\n",
        "         zoom_range=0.2, # randomly zoom into images\n",
        "        rotation_range=10,  # randomly rotate images in the range (degrees, 0 to 180)\n",
        "        width_shift_range=0.1,  # randomly shift images horizontally (fraction of total width)\n",
        "        height_shift_range=0.1,  # randomly shift images vertically (fraction of total height)\n",
        "        horizontal_flip=True,  # randomly flip images\n",
        "        vertical_flip=False)  # randomly flip images\n",
        " \n",
        "validation_datagen = ImageDataGenerator()\n",
        "\n",
        "train_generator = train_datagen.flow_from_directory(\n",
        "        train_path,\n",
        "        target_size=(image_size, image_size),\n",
        "        batch_size=batch_size,\n",
        "        class_mode='categorical',\n",
        "         shuffle = True)\n",
        " \n",
        "validation_generator = validation_datagen.flow_from_directory(\n",
        "        test_path,\n",
        "        target_size=(image_size, image_size),\n",
        "        batch_size=batch_size,\n",
        "        class_mode='categorical',\n",
        "        shuffle=True)"
      ],
      "execution_count": 0,
      "outputs": [
        {
          "output_type": "stream",
          "text": [
            "Found 2000 images belonging to 4 classes.\n",
            "Found 400 images belonging to 4 classes.\n"
          ],
          "name": "stdout"
        }
      ]
    },
    {
      "cell_type": "code",
      "metadata": {
        "id": "g9k6TobPRVKn",
        "colab_type": "code",
        "outputId": "0c5be925-1b86-4c2a-ab46-88dd36e4ebd2",
        "colab": {
          "base_uri": "https://localhost:8080/",
          "height": 836
        }
      },
      "source": [
        "# Train the model\n",
        "history = model.fit_generator(\n",
        "      train_generator,\n",
        "      steps_per_epoch=train_generator.samples/train_generator.batch_size ,\n",
        "      epochs=25,\n",
        "      validation_data= validation_generator,\n",
        "      validation_steps=validation_generator.samples/validation_generator.batch_size)\n",
        "\n",
        "\n",
        "\n",
        " \n",
        "# Save the model\n",
        "model.save('usinginception.h5')"
      ],
      "execution_count": 0,
      "outputs": [
        {
          "output_type": "stream",
          "text": [
            "WARNING:tensorflow:From /usr/local/lib/python3.6/dist-packages/tensorflow_core/python/ops/math_grad.py:1424: where (from tensorflow.python.ops.array_ops) is deprecated and will be removed in a future version.\n",
            "Instructions for updating:\n",
            "Use tf.where in 2.0, which has the same broadcast rule as np.where\n",
            "WARNING:tensorflow:From /usr/local/lib/python3.6/dist-packages/keras/backend/tensorflow_backend.py:1033: The name tf.assign_add is deprecated. Please use tf.compat.v1.assign_add instead.\n",
            "\n",
            "WARNING:tensorflow:From /usr/local/lib/python3.6/dist-packages/keras/backend/tensorflow_backend.py:1020: The name tf.assign is deprecated. Please use tf.compat.v1.assign instead.\n",
            "\n",
            "Epoch 1/25\n",
            "63/62 [==============================] - 710s 11s/step - loss: 2.2059 - acc: 0.3626 - val_loss: 1.3886 - val_acc: 0.4775\n",
            "Epoch 2/25\n",
            "63/62 [==============================] - 687s 11s/step - loss: 1.4898 - acc: 0.4866 - val_loss: 1.0871 - val_acc: 0.5450\n",
            "Epoch 3/25\n",
            "63/62 [==============================] - 685s 11s/step - loss: 1.2864 - acc: 0.5362 - val_loss: 1.0829 - val_acc: 0.5550\n",
            "Epoch 4/25\n",
            "63/62 [==============================] - 688s 11s/step - loss: 1.1542 - acc: 0.5685 - val_loss: 0.9903 - val_acc: 0.5775\n",
            "Epoch 5/25\n",
            "63/62 [==============================] - 689s 11s/step - loss: 1.0612 - acc: 0.5927 - val_loss: 1.0420 - val_acc: 0.6000\n",
            "Epoch 6/25\n",
            "63/62 [==============================] - 690s 11s/step - loss: 0.9688 - acc: 0.6250 - val_loss: 1.0373 - val_acc: 0.6100\n",
            "Epoch 7/25\n",
            "63/62 [==============================] - 689s 11s/step - loss: 0.8944 - acc: 0.6543 - val_loss: 1.0266 - val_acc: 0.6175\n",
            "Epoch 8/25\n",
            "63/62 [==============================] - 691s 11s/step - loss: 0.9090 - acc: 0.6424 - val_loss: 0.9754 - val_acc: 0.6325\n",
            "Epoch 9/25\n",
            "63/62 [==============================] - 693s 11s/step - loss: 0.8424 - acc: 0.6687 - val_loss: 0.9793 - val_acc: 0.6000\n",
            "Epoch 10/25\n",
            "63/62 [==============================] - 694s 11s/step - loss: 0.7892 - acc: 0.6949 - val_loss: 0.9418 - val_acc: 0.6275\n",
            "Epoch 11/25\n",
            "63/62 [==============================] - 694s 11s/step - loss: 0.7795 - acc: 0.6890 - val_loss: 0.9114 - val_acc: 0.6625\n",
            "Epoch 12/25\n",
            "63/62 [==============================] - 692s 11s/step - loss: 0.7515 - acc: 0.7019 - val_loss: 0.9517 - val_acc: 0.6125\n",
            "Epoch 13/25\n",
            "63/62 [==============================] - 694s 11s/step - loss: 0.7268 - acc: 0.7163 - val_loss: 0.8917 - val_acc: 0.6550\n",
            "Epoch 14/25\n",
            "63/62 [==============================] - 692s 11s/step - loss: 0.7096 - acc: 0.7198 - val_loss: 0.9222 - val_acc: 0.6325\n",
            "Epoch 15/25\n",
            "63/62 [==============================] - 690s 11s/step - loss: 0.6965 - acc: 0.7212 - val_loss: 1.0005 - val_acc: 0.6000\n",
            "Epoch 16/25\n",
            "63/62 [==============================] - 691s 11s/step - loss: 0.7003 - acc: 0.7232 - val_loss: 0.9218 - val_acc: 0.6250\n",
            "Epoch 17/25\n",
            "63/62 [==============================] - 695s 11s/step - loss: 0.6587 - acc: 0.7490 - val_loss: 0.9575 - val_acc: 0.6225\n",
            "Epoch 18/25\n",
            "63/62 [==============================] - 689s 11s/step - loss: 0.6510 - acc: 0.7450 - val_loss: 0.9778 - val_acc: 0.6225\n",
            "Epoch 19/25\n",
            "63/62 [==============================] - 691s 11s/step - loss: 0.6500 - acc: 0.7515 - val_loss: 0.9005 - val_acc: 0.6450\n",
            "Epoch 20/25\n",
            "48/62 [======================>.......] - ETA: 2:11 - loss: 0.6125 - acc: 0.7617"
          ],
          "name": "stdout"
        }
      ]
    },
    {
      "cell_type": "code",
      "metadata": {
        "id": "b0OqieECReBG",
        "colab_type": "code",
        "colab": {}
      },
      "source": [
        ""
      ],
      "execution_count": 0,
      "outputs": []
    }
  ]
}